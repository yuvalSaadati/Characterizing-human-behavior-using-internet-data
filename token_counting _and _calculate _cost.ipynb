{
 "cells": [
  {
   "cell_type": "code",
   "execution_count": 2,
   "metadata": {},
   "outputs": [
    {
     "name": "stdout",
     "output_type": "stream",
     "text": [
      "Collecting tiktoken\n",
      "  Downloading tiktoken-0.8.0-cp311-cp311-win_amd64.whl.metadata (6.8 kB)\n",
      "Requirement already satisfied: regex>=2022.1.18 in c:\\users\\yuval\\anaconda3\\lib\\site-packages (from tiktoken) (2024.9.11)\n",
      "Requirement already satisfied: requests>=2.26.0 in c:\\users\\yuval\\anaconda3\\lib\\site-packages (from tiktoken) (2.32.3)\n",
      "Requirement already satisfied: charset-normalizer<4,>=2 in c:\\users\\yuval\\anaconda3\\lib\\site-packages (from requests>=2.26.0->tiktoken) (3.3.2)\n",
      "Requirement already satisfied: idna<4,>=2.5 in c:\\users\\yuval\\anaconda3\\lib\\site-packages (from requests>=2.26.0->tiktoken) (3.7)\n",
      "Requirement already satisfied: urllib3<3,>=1.21.1 in c:\\users\\yuval\\anaconda3\\lib\\site-packages (from requests>=2.26.0->tiktoken) (1.26.20)\n",
      "Requirement already satisfied: certifi>=2017.4.17 in c:\\users\\yuval\\anaconda3\\lib\\site-packages (from requests>=2.26.0->tiktoken) (2024.8.30)\n",
      "Downloading tiktoken-0.8.0-cp311-cp311-win_amd64.whl (884 kB)\n",
      "   ---------------------------------------- 0.0/884.5 kB ? eta -:--:--\n",
      "   ---------------------------------------- 0.0/884.5 kB ? eta -:--:--\n",
      "   ---------------------------------------- 0.0/884.5 kB ? eta -:--:--\n",
      "   ----------- ---------------------------- 262.1/884.5 kB ? eta -:--:--\n",
      "   ---------------------- --------------- 524.3/884.5 kB 932.9 kB/s eta 0:00:01\n",
      "   ----------------------------------- ---- 786.4/884.5 kB 1.1 MB/s eta 0:00:01\n",
      "   ---------------------------------------- 884.5/884.5 kB 1.0 MB/s eta 0:00:00\n",
      "Installing collected packages: tiktoken\n",
      "Successfully installed tiktoken-0.8.0\n"
     ]
    },
    {
     "name": "stderr",
     "output_type": "stream",
     "text": [
      "WARNING: Ignoring invalid distribution ~ensorflow-intel (c:\\Users\\Yuval\\anaconda3\\Lib\\site-packages)\n",
      "WARNING: Ignoring invalid distribution ~ensorflow-intel (c:\\Users\\Yuval\\anaconda3\\Lib\\site-packages)\n",
      "WARNING: Ignoring invalid distribution ~ensorflow-intel (c:\\Users\\Yuval\\anaconda3\\Lib\\site-packages)\n"
     ]
    }
   ],
   "source": [
    "!pip install tiktoken"
   ]
  },
  {
   "cell_type": "code",
   "execution_count": null,
   "metadata": {},
   "outputs": [
    {
     "name": "stdout",
     "output_type": "stream",
     "text": [
      "Estimated total tokens used: 22438\n",
      "Estimated cost: $0.67\n"
     ]
    }
   ],
   "source": [
    "import pandas as pd\n",
    "import tiktoken\n",
    "\n",
    "# Define the pricing per 1,000 tokens for the chosen model\n",
    "PRICE_PER_1000_TOKENS = 0.00003  # Replace with the correct value for GPT-4\n",
    "MAX_OUTPUT_TOKENS = 16  # 1 token for grade + 15 tokens for reason\n",
    "\n",
    "# Tokenizer setup for gpt-4\n",
    "tokenizer = tiktoken.encoding_for_model(\"gpt-4\")\n",
    "\n",
    "def count_input_tokens(prompt, post):\n",
    "    \"\"\"\n",
    "    Counts the number of input tokens for the given prompt and post.\n",
    "    \"\"\"\n",
    "    formatted_prompt = f\"{prompt}\\n\\nThe post is: {post}\"\n",
    "    input_tokens = len(tokenizer.encode(formatted_prompt))\n",
    "    return input_tokens\n",
    "\n",
    "def estimate_cost(sheet_df, prompts):\n",
    "    \"\"\"\n",
    "    Estimates token usage and cost for a sheet based on input and output tokens.\n",
    "    \"\"\"\n",
    "    total_tokens_used = 0\n",
    "\n",
    "    for idx, row in sheet_df.iterrows():\n",
    "        post = row['Art Post']  # Replace 'Post' with the actual column name containing posts\n",
    "        if pd.notnull(post):  # Skip empty posts\n",
    "            # Calculate input tokens for the first prompt\n",
    "            input_tokens1 = count_input_tokens(prompts[0], post)\n",
    "            total_tokens_used += input_tokens1 \n",
    "\n",
    "            # Calculate input tokens for the second prompt\n",
    "            input_tokens2 = count_input_tokens(prompts[1], post)\n",
    "            total_tokens_used += input_tokens2 \n",
    "\n",
    "    return total_tokens_used\n",
    "\n",
    "# Load the Excel file\n",
    "\n",
    "\n",
    "# Define the two prompts\n",
    "prompts = [\n",
    "    \"\"\"You are a serious crowdsourcing human worker. Grade how productive the author of each post seems to be doing, according to their related experience. \n",
    "    The grade should be exactly one of these grades: rather productive, rather neutral, rather not productive, subject has rather nothing to do with productivity, author not a producer himself. \n",
    "    Please reply with the format:\n",
    "    Grade: grade,\n",
    "    Reason: reason (up to 15 words)\"\"\",\n",
    "    \n",
    "    \"\"\"You are a serious crowdsourcing human worker; grade how hard and painful it is, for the author of each post to create, according to his related experience. \n",
    "    The grade should be exactly one of these grades: rather hard to create, rather neutral to creation, rather not hard to create, subject has rather nothing to do with creativity, author not a creator himself. \n",
    "    Please reply with the format:\n",
    "    Grade: grade,\n",
    "    Reason: reason (up to 15 words)\"\"\"\n",
    "]\n",
    "\n",
    "# Process each sheet and calculate total cost\n",
    "total_tokens_used = 0\n",
    "file_path = \"user_posts_art_and_sport_only_sport_filter_min_diff.xlsx\"\n",
    "art_and_sport_file = pd.read_excel(file_path)\n",
    "art_and_sport_file = art_and_sport_file.head(50)\n",
    "tokens_used = estimate_cost(art_and_sport_file, prompts)\n",
    "total_tokens_used += tokens_used\n",
    "\n",
    "file_path = \"only_art_users.xlsx\"\n",
    "only_art_file = pd.read_excel(file_path)\n",
    "only_art_file = only_art_file.head(50)\n",
    "tokens_used = estimate_cost(only_art_file, prompts)\n",
    "total_tokens_used += tokens_used\n",
    "\n",
    "# Calculate cost\n",
    "total_cost = total_tokens_used  * PRICE_PER_1000_TOKENS\n",
    "\n",
    "# Print results\n",
    "print(f\"Estimated total input tokens used: {total_tokens_used}\")\n",
    "print(f\"Estimated input cost: ${total_cost:.2f}\")\n"
   ]
  },
  {
   "cell_type": "markdown",
   "metadata": {},
   "source": [
    "### output tokens"
   ]
  },
  {
   "cell_type": "code",
   "execution_count": 14,
   "metadata": {},
   "outputs": [
    {
     "name": "stdout",
     "output_type": "stream",
     "text": [
      "Estimated total output tokens used: 19\n",
      "Estimated output cost: $0.0011\n"
     ]
    }
   ],
   "source": [
    "PRICE_PER_1000_TOKENS = 0.00006  # Replace with the correct value for GPT-4\n",
    "\n",
    "output_formatted_prompt = f\"Reason: Grade:\"\n",
    "output_tokens = len(tokenizer.encode(output_formatted_prompt)) + 15\n",
    "total_cost = output_tokens  * PRICE_PER_1000_TOKENS\n",
    "\n",
    "# Print results\n",
    "print(f\"Estimated total output tokens used: {output_tokens}\")\n",
    "print(f\"Estimated output cost: ${total_cost:.4f}\")"
   ]
  }
 ],
 "metadata": {
  "kernelspec": {
   "display_name": "base",
   "language": "python",
   "name": "python3"
  },
  "language_info": {
   "codemirror_mode": {
    "name": "ipython",
    "version": 3
   },
   "file_extension": ".py",
   "mimetype": "text/x-python",
   "name": "python",
   "nbconvert_exporter": "python",
   "pygments_lexer": "ipython3",
   "version": "3.11.5"
  }
 },
 "nbformat": 4,
 "nbformat_minor": 2
}
