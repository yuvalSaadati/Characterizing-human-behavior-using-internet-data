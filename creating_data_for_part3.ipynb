{
 "cells": [
  {
   "cell_type": "code",
   "execution_count": 3,
   "metadata": {},
   "outputs": [],
   "source": [
    "import praw\n",
    "\n",
    "# Reddit API credentials (replace with your own)\n",
    "REDDIT_CLIENT_ID = \"lMYhh7BNAjLrJQ_c7v0M5w\"\n",
    "REDDIT_CLIENT_SECRET = \"Mq0R3nUw3FxCmfnqcLM4sIrLA1_dzg\"\n",
    "REDDIT_USER_AGENT = \"your_user_agent\"\n",
    "\n",
    "# Initialize PRAW Reddit instance\n",
    "reddit = praw.Reddit(client_id=REDDIT_CLIENT_ID,\n",
    "                     client_secret=REDDIT_CLIENT_SECRET,\n",
    "                     user_agent=REDDIT_USER_AGENT)"
   ]
  },
  {
   "cell_type": "markdown",
   "metadata": {},
   "source": [
    "# Handel only art users"
   ]
  },
  {
   "cell_type": "markdown",
   "metadata": {},
   "source": [
    "### extracting 1000 users from art only file"
   ]
  },
  {
   "cell_type": "code",
   "execution_count": 4,
   "metadata": {},
   "outputs": [
    {
     "name": "stderr",
     "output_type": "stream",
     "text": [
      "C:\\Users\\Yuval\\AppData\\Local\\Temp\\ipykernel_6704\\1064290400.py:19: SettingWithCopyWarning: \n",
      "A value is trying to be set on a copy of a slice from a DataFrame.\n",
      "Try using .loc[row_indexer,col_indexer] = value instead\n",
      "\n",
      "See the caveats in the documentation: https://pandas.pydata.org/pandas-docs/stable/user_guide/indexing.html#returning-a-view-versus-a-copy\n",
      "  df_filtered_art_users['Art Post url'] = df_filtered_art_users['Art Post url'].astype(str)\n"
     ]
    }
   ],
   "source": [
    "# Load the CSV file\n",
    "import pandas as pd\n",
    "df_art_users = pd.read_excel('only_art_users.xlsx')\n",
    "df_excluded_users = pd.read_excel('posts100_tagged_with_GPT4_media_only_art.xlsx')\n",
    "# Create a set of excluded users for faster lookup\n",
    "excluded_users = set(df_excluded_users['User'])\n",
    "# Filter df_art_users to exclude the users found in df_excluded_users\n",
    "df_filtered_art_users = df_art_users[~df_art_users['User'].isin(excluded_users)]\n",
    "\n",
    "# List of image extensions\n",
    "image_extensions = ['.jpg', '.jpeg', '.png', '.gif', '.bmp', '.tiff']\n",
    "# List of image extensions\n",
    "\n",
    "# Function to determine if a URL is an image URL\n",
    "def is_image_url(url):\n",
    "    return any(url.lower().endswith(ext) for ext in image_extensions)\n",
    "\n",
    "# Apply URL filter\n",
    "df_filtered_art_users['Art Post url'] = df_filtered_art_users['Art Post url'].astype(str)\n",
    "filtered_df = df_filtered_art_users[~df_filtered_art_users['Art Post url'].apply(is_image_url)]\n",
    "\n",
    "# Drop duplicates to ensure unique users\n",
    "unique_posts = filtered_df.drop_duplicates(subset=['User'])\n",
    "\n",
    "# Take top 1000 unique posts from different users\n",
    "top_1000_posts = unique_posts.head(1000)\n",
    "\n"
   ]
  },
  {
   "cell_type": "markdown",
   "metadata": {},
   "source": [
    "### extracting from Reddit the posts of only_art user with is_self field"
   ]
  },
  {
   "cell_type": "code",
   "execution_count": 6,
   "metadata": {},
   "outputs": [
    {
     "name": "stdout",
     "output_type": "stream",
     "text": [
      "Error fetching posts for user multiverse-wanderer: received 429 HTTP response\n",
      "Error fetching posts for user Mooseylips: received 429 HTTP response\n",
      "Error fetching posts for user SwedishMeatballsYum: received 429 HTTP response\n",
      "Error fetching posts for user c_side_art: received 429 HTTP response\n",
      "Error fetching posts for user LifeofMuck: received 429 HTTP response\n",
      "Error fetching posts for user Papercandy22: received 429 HTTP response\n",
      "Error fetching posts for user InTheHeat0fLisbon: received 429 HTTP response\n",
      "Error fetching posts for user Erik912: received 429 HTTP response\n",
      "Error fetching posts for user TheCharlienator: received 429 HTTP response\n",
      "Error fetching posts for user Shot_Method: received 429 HTTP response\n",
      "Error fetching posts for user chiseal: received 429 HTTP response\n",
      "Error fetching posts for user seehowitsfaded: received 429 HTTP response\n"
     ]
    },
    {
     "name": "stderr",
     "output_type": "stream",
     "text": [
      "c:\\Users\\Yuval\\anaconda3\\Lib\\site-packages\\xlsxwriter\\worksheet.py:1251: UserWarning: Ignoring URL 'https://www.riotgames.com/en/work-with-us/job/5273291/senior-composer-creative-department-music-services-los-angeles-usa\n",
      "\n",
      "**Responsibilities:**\n",
      "\n",
      "\n",
      "*%20Collaborate%20with%20Esports%20broadcast%20production%20to%20create%20and%20adapt%20new%20and%20existing%20music%20for%20worldwide%20broadcast%20and%20live%20events%20that%20enhances%20the%20goals%20of%20the%20project.\n",
      "\n",
      "\n",
      "*%20Create%20music%20for%20linear%20content%20like%20trailers%20and%20other%20publishing%20materials.\n",
      "\n",
      "\n",
      "*%20Collaborate%20with%20Esports,%20Entertainment,%20and%20external%20partners%20to%20determine%20music%20vision,%20goals,%20and%20objectives%20that%20inform%20and%20support%20the%20product/teams%20vision.\n",
      "\n",
      "\n",
      "*%20Work%20with%20product%20leadership%20to%20determine%20and%20manage%20milestones,%20schedule,%20vendors,%20priorities,%20and%20work%20output%20for%20an%20entire%20product.\n",
      "\n",
      "\n",
      "*%20Provide%20on-site%20consultation%20for%20adaptation%20of%20created%20music%20towards%20live%20events%20needs%20(must%20be%20able%20to%20travel%20internationally).\n",
      "\n",
      "\n",
      "*%20Collaborate%20with%20Entertainment,%20external%20artists,%20and%20other%20teams%20on%20cross-product%20projects%20and%20campaigns.\n",
      "\n",
      "\n",
      "*%20Collaborate%20with%20composers,%20sound%20designers,%20video,%20publishing,%20regional%20and%20other%20teams%20to%20ensure%20thematic%20consistency%20across%20related%20products\n",
      "\n",
      "\n",
      "*%20Manage%20outsource%20partners%20for%20asset%20creation%20and%20delivery.\n",
      "\n",
      "\n",
      "**Required%20Qualifications:**%20\n",
      "\n",
      "\n",
      "*%20Minimum%205%20years%20of%20experience%20in%20music%20composition\n",
      "\n",
      "\n",
      "*%20Craft%20expertise%20in%20music%20composition%20and%20production%20across%20a%20wide%20variety%20of%20genres\n",
      "\n",
      "\n",
      "*%20Deep%20understanding%20of%20the%20tools%20and%20techniques%20required%20for%20composing%20and%20producing%20the%20highest%20professional%20quality%20bar%20of%20music%20(DAWs,%20Sample%20Libraries,%20Plugins)\n",
      "\n",
      "\n",
      "*%20Knowledge%20of%20the%20holistic%20game%20audio%20process%20and%20how%20music%20can%20be%20leveraged%20in%20the%20interactive%20and%20linear%20space\n",
      "\n",
      "\n",
      "Base%20salary%20range%20between%20$102,000.00%20-%20$143,200.00%20USD%20+%20incentive%20compensation%20+%20equity%20+%20401K%20with%20company%20match%20+%20medical,%20dental,%20vision,%20and%20life%20insurance%20+%20short%20and%20long-term%20disability%20+%20open%20PTO.\n",
      "\n",
      "\n",
      "This%20opening%20is%20Los%20Angeles%20only%20and%20more%20info%20is%20available%20at%20the%20link.' with link or location/anchor > 2079 characters since it exceeds Excel's limit for URLS\n",
      "  warn(\n",
      "c:\\Users\\Yuval\\anaconda3\\Lib\\site-packages\\xlsxwriter\\worksheet.py:1251: UserWarning: Ignoring URL 'http://www.theguardian.com/books/2014/mar/04/literary-pet-peeves-author-blunders\n",
      "\n",
      "I%20also%20think%20this%20is%20highly%20relevant,%20particularly%20if%20you%20want%20your%20%22back%20catalogue%22%20to%20earn%20you%20the%20max%20passive%20income:\n",
      "\n",
      "%3e%20All%20technical%20references%20to%20computers,%20phones%20and%20other%20electronic%20devices%20in%20novels.%20Nearly%20always%20wrong%20and%20always%20very%20quickly%20out%20of%20date.\n",
      "\n",
      "It%20is%20actually%20possible%20to%20do%20this.%20%20Personally%20I%20do%20this%20by:\n",
      "\n",
      "1.%20Setting%20novels%20pre-internet/vague%201990s%20setting%20which%20is%20%22modern%22%20but%20people%20didn't%20all%20use%20mobile%20phones%20and%20there%20were%20no%20smartphones\n",
      "\n",
      "2.%20%20Omitting%20technology%20terms.%20%20Have%20someone%20%22call%22%20someone%20else.%20%20Have%20them%20say%20%22I'll%20send%20you%20a%20note%22%20or%20%22I'll%20send%20you%20the%20recipe%22%20or%20%22I'll%20send%20you%20a%20reminder%22%20but%20no%20need%20to%20specify%20it's%20email\n",
      "\n",
      "3.%20%20Don't%20put%20in%20any%20form%20of%20%22text%20speak%22%20-%20it's%20gruesome%20and%20speaks%20to%20such%20a%20tiny%20(and%20soon%20outdated)%20niche%20that%20there's%20no%20point\n",
      "\n",
      "4.%20%20Contrive%20to%20have%20people%20send%20actual%20paper%20notes%20for%20whatever%20reason%20(eg%20have%20them%20slip%20a%20note%20in%20someone's%20locker)\n",
      "\n",
      "5.%20%20Have%20a%20plot%20where%20the%20internet%20is%20irrelevant%20or%20inaccessible:%20eg%20they're%20out%20of%20reach%20of%20it.%20Post-apocalyptic,%20disaster%20situations,%20remote%20expeditions,%20even%20foreign%20travel%20(in%20a%20country%20that%20could%20be%20assumed%20to%20be%20relatively%20tech-free).\n",
      "\n",
      "Because%20you%20know%20those%20gruesome%20%22Fake%20Hollywood%20OS%22%20scenes%20in%20movies%20where%20they're%20using%20some%20bizarre%20fake%20500-point-text%20facile%20operating%20system%20or%20app%20never%20known%20to%20man?%20%20With%20a%20flashing%20screen%20saying%20%22Message%20Alert!%22%20or%20some%20such%20shit?%20And%20everyone%20who%20has%20ever%20even%20used%20a%20computer%20ever%20cringes%20to%20death%20at%20the%20unreality?\n",
      "\n",
      "That's%20your%20novel%20in%20a%20couple%20of%20years'%20time.' with link or location/anchor > 2079 characters since it exceeds Excel's limit for URLS\n",
      "  warn(\n"
     ]
    }
   ],
   "source": [
    "from collections import defaultdict\n",
    "import pandas as pd\n",
    "import pickle\n",
    "art_forums = [\n",
    "    \"ArtistLounge\", \"ArtCrit\", \"art\", \"learnart\", \"drawings\", \"Sculpture\",\n",
    "    \"arttutorials\", \"AnimeART\", \"PixelArt\", \"Pastel\", \"OilPainting\", \"Watercolor\", \"artlounge\", \"painting\",\n",
    "     \"writing\", \"writers\", \"sciwrite\", \"phd\", \"freelanceWriters\", \"composer\", \"composition\"\n",
    "]\n",
    "only_art_posts_no_media = defaultdict(list)\n",
    "users = top_1000_posts['User'].unique()\n",
    "\n",
    "for username in users:    \n",
    "    # Search for posts by the user in art-related subreddits\n",
    "    target_art_subreddits_str = '+'.join(art_forums)  # Multi-subreddit search query\n",
    "    search_query = f\"author:{username}\"\n",
    "    \n",
    "    # Search the subreddit\n",
    "    try:\n",
    "        for post in reddit.subreddit(target_art_subreddits_str).search(search_query, limit=100):  # Adjust limit as needed            \n",
    "            only_art_posts_no_media[username].append({\n",
    "                'title': post.title,\n",
    "                'description': post.selftext,\n",
    "                'author': str(post.author),\n",
    "                'post_id': post.id,\n",
    "                'subreddit': str(post.subreddit),\n",
    "                'score': post.score,\n",
    "                'comments_count': post.num_comments,\n",
    "                'post_url': post.url,\n",
    "                'created_utc': post.created_utc,\n",
    "                'flair': post.link_flair_text,\n",
    "                'nsfw': post.over_18,\n",
    "                'stickied': post.stickied,\n",
    "                'edited': post.edited,\n",
    "                'awards': post.total_awards_received,\n",
    "                'is_video': post.is_video,\n",
    "                'is_self': post.is_self,\n",
    "                'media': post.media,\n",
    "                'domain': post.domain,\n",
    "                'post_hint': getattr(post, 'post_hint', None),  # Some posts may not have this attribute\n",
    "                'media_metadata': getattr(post, 'media_metadata', None)  # Include this if available\n",
    "            })\n",
    "\n",
    "    except Exception as e:\n",
    "        print(f\"Error fetching posts for user {username}: {e}\")\n",
    "\n",
    "\n",
    "# Convert the dictionary to a DataFrame\n",
    "data = []\n",
    "for username, posts in only_art_posts_no_media.items():\n",
    "    for post in posts:\n",
    "        post['User'] = username  # Add username to the post dictionary for identification\n",
    "        data.append(post)\n",
    "\n",
    "df = pd.DataFrame(data)\n",
    "\n",
    "# Save the DataFrame to an Excel file\n",
    "df.to_excel('only_art_posts_no_media.xlsx', index=False)\n"
   ]
  },
  {
   "cell_type": "markdown",
   "metadata": {},
   "source": [
    "### taking posts only since 2018"
   ]
  },
  {
   "cell_type": "code",
   "execution_count": 105,
   "metadata": {},
   "outputs": [],
   "source": [
    "import pandas as pd\n",
    "\n",
    "# Load the Excel file\n",
    "df = pd.read_excel('only_art_posts_no_media.xlsx')\n",
    "\n",
    "# Convert 'created_utc' from UNIX timestamp to datetime\n",
    "df['created_utc'] = pd.to_datetime(df['created_utc'], unit='s')\n",
    "\n",
    "# Filter the DataFrame to include only entries from 2019 onwards\n",
    "df = df[df['created_utc'].dt.year > 2018]\n",
    "\n",
    "# Save the filtered DataFrame to a new Excel file\n",
    "df.to_excel('only_art_posts_no_media_2018.xlsx', index=False)\n"
   ]
  },
  {
   "cell_type": "markdown",
   "metadata": {},
   "source": [
    "### count the amount of posts with is_false=false for each user"
   ]
  },
  {
   "cell_type": "code",
   "execution_count": 109,
   "metadata": {},
   "outputs": [
    {
     "name": "stdout",
     "output_type": "stream",
     "text": [
      "Number of unique users: 844\n"
     ]
    }
   ],
   "source": [
    "import pandas as pd\n",
    "\n",
    "# Load the Excel file\n",
    "df = pd.read_excel('only_art_posts_no_media_2018.xlsx')\n",
    "\n",
    "# Calculate the count of 'is_self' == False for each user\n",
    "count_df = df[df['is_self'] == False].groupby('User').size().reset_index(name='use_media_amount')\n",
    "\n",
    "# Merge this count back into the original DataFrame\n",
    "# This will add the 'use_media_amount' column to all entries of the same user\n",
    "result_df = df.merge(count_df, on='User', how='left')\n",
    "\n",
    "# Fill NaN values with 0 where there were no 'is_self' == False posts\n",
    "result_df['use_media_amount'].fillna(0, inplace=True)\n",
    "# If the user uploaded post with image he is creative user\n",
    "result_df['is_creative'] = result_df['use_media_amount'] > 0\n",
    "unique_user_count = result_df['User'].nunique()\n",
    "\n",
    "# Save the updated DataFrame to a new Excel file\n",
    "result_df.to_excel('only_art_posts_no_media_amount.xlsx', index=False)\n",
    "print(\"Number of unique users:\", unique_user_count)\n"
   ]
  },
  {
   "cell_type": "markdown",
   "metadata": {},
   "source": [
    "### extract posts with not creative keywords"
   ]
  },
  {
   "cell_type": "code",
   "execution_count": 110,
   "metadata": {},
   "outputs": [],
   "source": [
    "import pandas as pd\n",
    "# Define a list of not creative keywords\n",
    "not_creative_keywords = [\n",
    "    \"Burnout\", \"blocked\", \"creative block\",\n",
    "\"Struggling\", \"difficulty\", \"can't\",\n",
    "\"Lost\", \"losing\", \"lack\",\n",
    "\"Stuck\", \"stagnant\", \"uninspired\",\n",
    "\"Frustrated\", \"frustrating\",\n",
    "\"Empty\", \"hollow\",\n",
    "\"Overwhelmed\", \"discouraged\", \"demotivated\",\n",
    "\"Regain\", \"restart\",\n",
    "\"no Motivation\", \"no inspiration\",\n",
    "\"Start again\", \"back to\", \"return to\",\n",
    "\"Sad\", \"frustrated\", \"bored\",\n",
    "\"Not fun\", \"no joy\", \"tired\",\n",
    " \"unsure\", \"defeated\",\n",
    "\"Feel like giving up\",\n",
    "\"How can I\", \"Why can’t I\", \"What do I do if\",\n",
    "\"Help with\", \"Struggling to\", \"Can’t seem to\",\n",
    "\"Lost motivation for\",\n",
    "\"Can't seem to create anymore\",\n",
    "\"How to start making art again\",\n",
    "\"Struggling with creativity\",\n",
    "\"Why do I feel stuck in\"\n",
    "]\n",
    "# Load the Excel file\n",
    "df = pd.read_excel('only_art_posts_no_media_amount.xlsx')\n",
    "\n",
    "# Filter the DataFrame to include only rows where both 'title' and 'description' are not empty\n",
    "df = df[df['title'].notna() & df['description'].notna()]\n",
    "\n",
    "# Function to check for not_creative_keywords in both 'title' and 'description' columns\n",
    "def contains_keywords(row):\n",
    "    title = str(row['title']) if pd.notna(row['title']) else ''\n",
    "    description = str(row['description']) if pd.notna(row['description']) else ''\n",
    "    combined_text = title + \" \" + description\n",
    "    return any(keyword.lower() in combined_text.lower() for keyword in not_creative_keywords)\n",
    "\n",
    "# Apply the function to check for not_creative_keywords in sport_and_art DataFrame\n",
    "df['contains_not_creative'] = df.apply(contains_keywords, axis=1)\n",
    "\n",
    "# Save the updated DataFrame to a new Excel file\n",
    "df.to_excel('only_art_posts_with_not_creative_keywords.xlsx', index=False)\n"
   ]
  },
  {
   "cell_type": "markdown",
   "metadata": {},
   "source": [
    "# Handel sport and art users"
   ]
  },
  {
   "cell_type": "markdown",
   "metadata": {},
   "source": [
    "### extracting unique users of sport and art users that we didn't use"
   ]
  },
  {
   "cell_type": "code",
   "execution_count": 25,
   "metadata": {},
   "outputs": [],
   "source": [
    "import pandas as pd\n",
    "import numpy as np\n",
    "\n",
    "# Load the Excel files into DataFrames\n",
    "df_all_posts = pd.read_excel('user_posts_art_and_sport_only_sport_filter_all_posts.xlsx')\n",
    "df_exclude_users = pd.read_excel('posts100_tagged_with_GPT4_media_art_and_sport.xlsx')\n",
    "\n",
    "# Assuming the user column in df_exclude_users is named 'User' as per your previous descriptions\n",
    "# Get unique users to exclude\n",
    "users_to_exclude = df_exclude_users['User'].unique()\n",
    "users_to_exclude = np.append(users_to_exclude, 'AutoModerator')\n",
    "\n",
    "# Filter out the rows where User is in the users_to_exclude list\n",
    "filtered_df = df_all_posts[~df_all_posts['User'].isin(users_to_exclude)]\n",
    "\n",
    "# Save the filtered data to a new Excel file\n",
    "filtered_df.to_excel('sport_and_art_posts_not_tagged.xlsx', index=False)\n"
   ]
  },
  {
   "cell_type": "markdown",
   "metadata": {},
   "source": [
    "### counting the amount of media for users we didnt use from art and sport"
   ]
  },
  {
   "cell_type": "code",
   "execution_count": 75,
   "metadata": {},
   "outputs": [
    {
     "name": "stdout",
     "output_type": "stream",
     "text": [
      "Number of unique users: 28\n"
     ]
    }
   ],
   "source": [
    "from collections import defaultdict\n",
    "import pandas as pd\n",
    "import pickle\n",
    "import warnings\n",
    "warnings.filterwarnings('ignore')\n",
    "\n",
    "art_forums = [\n",
    "    \"ArtistLounge\", \"ArtCrit\", \"art\", \"learnart\", \"drawings\", \"Sculpture\",\n",
    "    \"arttutorials\", \"AnimeART\", \"PixelArt\", \"Pastel\", \"OilPainting\", \"Watercolor\", \"artlounge\", \"painting\",\n",
    "     \"writing\", \"writers\", \"sciwrite\", \"phd\", \"freelanceWriters\", \"composer\", \"composition\"\n",
    "]\n",
    "df = pd.read_excel('sport_and_art_posts_not_tagged.xlsx')\n",
    "\n",
    "users = df['User'].unique()\n",
    "print(\"Number of unique users:\", len(users))\n",
    "sport_and_art_posts_no_media = defaultdict(list)\n",
    "\n",
    "for username in users:    \n",
    "    # Search for posts by the user in art-related subreddits\n",
    "    target_art_subreddits_str = '+'.join(art_forums)  # Multi-subreddit search query\n",
    "    search_query = f\"author:{username}\"\n",
    "    \n",
    "    # Search the subreddit\n",
    "    try:\n",
    "        for post in reddit.subreddit(target_art_subreddits_str).search(search_query, limit=100):  # Adjust limit as needed            \n",
    "            sport_and_art_posts_no_media[username].append({\n",
    "                'title': post.title,\n",
    "                'description': post.selftext,\n",
    "                'author': str(post.author),\n",
    "                'post_id': post.id,\n",
    "                'subreddit': str(post.subreddit),\n",
    "                'score': post.score,\n",
    "                'comments_count': post.num_comments,\n",
    "                'post_url': post.url,\n",
    "                'created_utc': post.created_utc,\n",
    "                'flair': post.link_flair_text,\n",
    "                'nsfw': post.over_18,\n",
    "                'stickied': post.stickied,\n",
    "                'edited': post.edited,\n",
    "                'awards': post.total_awards_received,\n",
    "                'is_video': post.is_video,\n",
    "                'is_self': post.is_self,\n",
    "                'media': post.media,\n",
    "                'domain': post.domain,\n",
    "                'post_hint': getattr(post, 'post_hint', None),  # Some posts may not have this attribute\n",
    "                'media_metadata': getattr(post, 'media_metadata', None)  # Include this if available\n",
    "            })\n",
    "\n",
    "    except Exception as e:\n",
    "        print(f\"Error fetching posts for user {username}: {e}\")\n",
    "\n",
    "\n",
    "# Convert the dictionary to a DataFrame\n",
    "data = []\n",
    "for username, posts in sport_and_art_posts_no_media.items():\n",
    "    for post in posts:\n",
    "        post['User'] = username  # Add username to the post dictionary for identification\n",
    "        data.append(post)\n",
    "\n",
    "df = pd.DataFrame(data)\n",
    "\n",
    "# Save the DataFrame to an Excel file\n",
    "df.to_excel('sport_and_Art_not_used.xlsx', index=False)\n"
   ]
  },
  {
   "cell_type": "markdown",
   "metadata": {},
   "source": [
    "### taking posts only since 2018"
   ]
  },
  {
   "cell_type": "code",
   "execution_count": 76,
   "metadata": {},
   "outputs": [
    {
     "name": "stdout",
     "output_type": "stream",
     "text": [
      "Number of unique users: 24\n"
     ]
    }
   ],
   "source": [
    "import pandas as pd\n",
    "\n",
    "# Load the Excel file\n",
    "df = pd.read_excel('sport_and_Art_not_used.xlsx')\n",
    "\n",
    "# Convert 'created_utc' from UNIX timestamp to datetime\n",
    "df['created_utc'] = pd.to_datetime(df['created_utc'], unit='s')\n",
    "\n",
    "# Filter the DataFrame to include only entries from 2019 onwards\n",
    "df = df[df['created_utc'].dt.year > 2018]\n",
    "unique_user_count = df['User'].nunique()\n",
    "# Save the filtered DataFrame to a new Excel file\n",
    "df.to_excel('sport_and_Art_not_used_2018.xlsx', index=False)\n",
    "print(\"Number of unique users:\", unique_user_count)\n"
   ]
  },
  {
   "cell_type": "markdown",
   "metadata": {},
   "source": [
    "### count the amount of posts without media, is_self=false"
   ]
  },
  {
   "cell_type": "code",
   "execution_count": 97,
   "metadata": {},
   "outputs": [],
   "source": [
    "import pandas as pd\n",
    "\n",
    "# Load the Excel file\n",
    "df = pd.read_excel('sport_and_Art_not_used_2018.xlsx')\n",
    "\n",
    "# Calculate the count of 'is_self' == False for each user\n",
    "count_df = df[df['is_self'] == False].groupby('User').size().reset_index(name='use_media_amount')\n",
    "\n",
    "# Merge this count back into the original DataFrame\n",
    "# This will add the 'use_media_amount' column to all entries of the same user\n",
    "result_df = df.merge(count_df, on='User', how='left')\n",
    "\n",
    "# Fill NaN values with 0 where there were no 'is_self' == False posts\n",
    "result_df['use_media_amount'].fillna(0, inplace=True)\n",
    "\n",
    "# If the user uploaded post with image he is creative user\n",
    "result_df['is_creative'] = result_df['use_media_amount'] > 0\n",
    "\n",
    "# Save the updated DataFrame to a new Excel file\n",
    "result_df.to_excel('sport_and_Art_not_used_no_media_amount.xlsx', index=False)\n"
   ]
  },
  {
   "cell_type": "markdown",
   "metadata": {},
   "source": [
    "### boolean column saying if the post have a not creative keyword"
   ]
  },
  {
   "cell_type": "code",
   "execution_count": 98,
   "metadata": {},
   "outputs": [],
   "source": [
    "# Load the Excel files\n",
    "df = pd.read_excel('sport_and_Art_not_used_no_media_amount.xlsx')\n",
    "\n",
    "# Function to check for not_creative_keywords in both 'title' and 'description' columns\n",
    "def contains_keywords(row):\n",
    "    title = str(row['title']) if pd.notna(row['title']) else ''\n",
    "    description = str(row['description']) if pd.notna(row['description']) else ''\n",
    "    combined_text = title + \" \" + description\n",
    "    return any(keyword.lower() in combined_text.lower() for keyword in not_creative_keywords)\n",
    "\n",
    "# Apply the function to check for not_creative_keywords in sport_and_art DataFrame\n",
    "df['contains_not_creative'] = df.apply(contains_keywords, axis=1)\n",
    "\n",
    "# Save the updated DataFrame to a new Excel file\n",
    "df.to_excel('sport_and_Art_not_used_no_media_amount_is_not_creative.xlsx', index=False)"
   ]
  },
  {
   "cell_type": "markdown",
   "metadata": {},
   "source": [
    "# Feature Calculation for the 100 tagged posts"
   ]
  },
  {
   "cell_type": "markdown",
   "metadata": {},
   "source": [
    "### combine sheets and add is_creative column"
   ]
  },
  {
   "cell_type": "code",
   "execution_count": 112,
   "metadata": {},
   "outputs": [],
   "source": [
    "import pandas as pd\n",
    "\n",
    "# Load the Excel file\n",
    "file_path = 'posts100_tagged_with_GPT4_with_ImagePostsCount_categories.xlsx'\n",
    "xls = pd.ExcelFile(file_path)\n",
    "\n",
    "# Read sheets\n",
    "df1 = pd.read_excel(xls, 'sport and art users posts')  \n",
    "df2 = pd.read_excel(xls, 'only art users posts')  \n",
    "\n",
    "# Define a function to determine creativity\n",
    "def check_creativity(grade):\n",
    "    if grade == \"Rather productive\":\n",
    "        return True\n",
    "    else:\n",
    "        return False\n",
    "\n",
    "# Apply the function to create 'is_creative' column\n",
    "df1['is_creative'] = df1['GPT Grade1'].apply(check_creativity)\n",
    "df2['is_creative'] = df2['GPT Grade1'].apply(check_creativity)\n",
    "\n",
    "# Combine the dataframes if necessary\n",
    "combined_df = pd.concat([df1, df2], ignore_index=True)\n",
    "\n",
    "# Save the combined dataframe to a new Excel file if needed\n",
    "combined_df.to_excel('combined_with_is_creative.xlsx', index=False)\n"
   ]
  },
  {
   "cell_type": "code",
   "execution_count": 119,
   "metadata": {},
   "outputs": [
    {
     "name": "stderr",
     "output_type": "stream",
     "text": [
      "[nltk_data] Downloading package punkt to\n",
      "[nltk_data]     C:\\Users\\Yuval\\AppData\\Roaming\\nltk_data...\n",
      "[nltk_data]   Package punkt is already up-to-date!\n",
      "[nltk_data] Downloading package averaged_perceptron_tagger to\n",
      "[nltk_data]     C:\\Users\\Yuval\\AppData\\Roaming\\nltk_data...\n",
      "[nltk_data]   Package averaged_perceptron_tagger is already up-to-\n",
      "[nltk_data]       date!\n",
      "[nltk_data] Downloading package stopwords to\n",
      "[nltk_data]     C:\\Users\\Yuval\\AppData\\Roaming\\nltk_data...\n",
      "[nltk_data]   Package stopwords is already up-to-date!\n",
      "[nltk_data] Downloading package vader_lexicon to\n",
      "[nltk_data]     C:\\Users\\Yuval\\AppData\\Roaming\\nltk_data...\n",
      "[nltk_data]   Package vader_lexicon is already up-to-date!\n"
     ]
    }
   ],
   "source": [
    "import pandas as pd\n",
    "import numpy as np\n",
    "import nltk\n",
    "from nltk.tokenize import word_tokenize, sent_tokenize\n",
    "from nltk.corpus import stopwords\n",
    "from nltk.sentiment.vader import SentimentIntensityAnalyzer\n",
    "from textstat import textstat\n",
    "import emoji\n",
    "def demojize_text(text):\n",
    "    emoji_counter = []\n",
    "    for word in text:\n",
    "        if len(emoji.distinct_emoji_list(word)) > 0:\n",
    "            emoji_counter.append(emoji.distinct_emoji_list(word)[0])\n",
    "    return emoji_counter\n",
    "# Download necessary NLTK resources\n",
    "nltk.download('punkt')\n",
    "nltk.download('averaged_perceptron_tagger')\n",
    "nltk.download('stopwords')\n",
    "nltk.download('vader_lexicon')\n",
    "\n",
    "# Load data\n",
    "df = pd.read_excel('combined_with_is_creative.xlsx')\n",
    "\n",
    "# Convert 'created_utc' to datetime\n",
    "# df['created_utc'] = pd.to_datetime(df['created_utc'], unit='s')\n",
    "df['Art Created UTC'] = pd.to_datetime(df['Art Created UTC'], unit='s')\n",
    "\n",
    "\n",
    "# Combine 'title' and 'description' into a single 'text' column\n",
    "df['text'] = df['Art Title'].astype(str) + \" \" + df['Art Description'].astype(str)\n",
    "\n",
    "# Assume 'is_creative' is a column in your DataFrame. Convert it to boolean if it's not already\n",
    "df['is_creative'] = df['is_creative'].astype(bool)\n",
    "\n",
    "# Define the feature calculation function\n",
    "def calculate_features(text):\n",
    "    words = word_tokenize(text)\n",
    "    sentences = sent_tokenize(text)\n",
    "    char_count = len(text)\n",
    "    word_count = len(words)\n",
    "    sentence_count = len(sentences)\n",
    "    avg_word_length = sum(len(word) for word in words) / word_count if word_count > 0 else 0\n",
    "    avg_sentence_length = sum(len(sentence) for sentence in sentences) / sentence_count if sentence_count > 0 else 0\n",
    "    verbs_count = sum(1 for word, pos in nltk.pos_tag(words) if pos.startswith('VB'))\n",
    "    stopwords_count = sum(1 for word in words if word.lower() in stopwords.words('english'))\n",
    "    all_caps_count = sum(1 for word in words if word.isupper())\n",
    "    punctuation_counts = {f'punctuation_{p}': text.count(p) for p in \".?!\"}\n",
    "    emoji_count = len(demojize_text(text))\n",
    "    readability_score = textstat.flesch_reading_ease(text)\n",
    "    compound_score = SentimentIntensityAnalyzer().polarity_scores(text)['compound']\n",
    "\n",
    "    return {\n",
    "        'word_count': word_count,\n",
    "        'char_count': char_count,\n",
    "        'sentence_count': sentence_count,\n",
    "        'avg_word_length': avg_word_length,\n",
    "        'avg_sentence_length': avg_sentence_length,\n",
    "        'verbs_count': verbs_count,\n",
    "        'stopwords_count': stopwords_count,\n",
    "        'all_caps_count': all_caps_count,\n",
    "        **punctuation_counts,\n",
    "        'emoji_count': emoji_count,\n",
    "        'readability_score': readability_score,\n",
    "        'compound_score': compound_score\n",
    "    }\n",
    "\n",
    "# Apply function to create features\n",
    "feature_columns = df['text'].apply(lambda x: pd.Series(calculate_features(x)))\n",
    "df = pd.concat([df, feature_columns], axis=1)\n",
    "\n",
    "# Convert subreddit categories to numeric\n",
    "df['subreddit_numeric'] = pd.Categorical(df['Art Subreddit']).codes\n",
    "df['post_count'] = df.groupby('User').size()\n",
    "\n",
    "# Group by user and aggregate data\n",
    "grouped = df.groupby('User').agg({\n",
    "    **{col: 'mean' for col in df.columns if col.startswith('word_count') or col.startswith('char_count') or col.startswith('sentence_count') or col.startswith('avg_') or col.startswith('verbs_count') or col.startswith('stopwords_count') or col.startswith('all_caps_count') or col.startswith('punctuation_') or col.startswith('emoji_count') or col.startswith('readability_score') or col.startswith('compound_score')},\n",
    "    'Art Score': 'mean',\n",
    "    'subreddit_numeric': 'mean',\n",
    "    'post_count': 'size',\n",
    "    'is_creative': 'any'  # Check if any post is marked as creative\n",
    "})\n",
    "\n",
    "# Save to Excel\n",
    "grouped.to_excel('100_users_metadata.xlsx')\n"
   ]
  },
  {
   "cell_type": "markdown",
   "metadata": {},
   "source": [
    "### Decision Tree Classification"
   ]
  },
  {
   "cell_type": "code",
   "execution_count": 120,
   "metadata": {},
   "outputs": [
    {
     "name": "stdout",
     "output_type": "stream",
     "text": [
      "Classification Report:\n",
      "              precision    recall  f1-score   support\n",
      "\n",
      "           0       0.50      0.33      0.40         3\n",
      "           1       0.89      0.94      0.91        17\n",
      "\n",
      "    accuracy                           0.85        20\n",
      "   macro avg       0.69      0.64      0.66        20\n",
      "weighted avg       0.83      0.85      0.84        20\n",
      "\n",
      "Confusion Matrix:\n",
      "[[ 1  2]\n",
      " [ 1 16]]\n"
     ]
    },
    {
     "data": {
      "image/png": "[encoded data removed]",
      "text/plain": [
       "<Figure size 700x400 with 1 Axes>"
      ]
     },
     "metadata": {},
     "output_type": "display_data"
    }
   ],
   "source": [
    "import pandas as pd\n",
    "import matplotlib.pyplot as plt\n",
    "from sklearn.model_selection import train_test_split\n",
    "from sklearn.tree import DecisionTreeClassifier\n",
    "from sklearn.metrics import classification_report, confusion_matrix\n",
    "\n",
    "# Load your data\n",
    "df = pd.read_excel('100_users_metadata.xlsx')\n",
    "\n",
    "# Separate the features and the target variable\n",
    "X = df.drop(columns=['User', 'is_creative'])  # Drop 'User' as it's an identifier and 'is_creative' as it's the target\n",
    "y = df['is_creative'].astype(int)  # Ensure the target is integer type for scikit-learn\n",
    "\n",
    "# Split the data into training and testing sets\n",
    "X_train, X_test, y_train, y_test = train_test_split(X, y, test_size=0.2, random_state=42)  # 20% data as test set\n",
    "\n",
    "# Create a decision tree classifier object\n",
    "clf = DecisionTreeClassifier()\n",
    "\n",
    "# Train the classifier\n",
    "clf.fit(X_train, y_train)\n",
    "\n",
    "# Predict on the test data\n",
    "y_pred = clf.predict(X_test)\n",
    "\n",
    "# Print the classification report and confusion matrix\n",
    "print(\"Classification Report:\")\n",
    "print(classification_report(y_test, y_pred))\n",
    "print(\"Confusion Matrix:\")\n",
    "print(confusion_matrix(y_test, y_pred))\n",
    "\n",
    "# Plot feature importances\n",
    "features = X.columns\n",
    "importances = clf.feature_importances_\n",
    "indices = np.argsort(importances)\n",
    "\n",
    "plt.figure(figsize=(7, 4))\n",
    "plt.title('Feature Importances')\n",
    "plt.barh(range(len(indices)), importances[indices], color='b', align='center')\n",
    "plt.yticks(range(len(indices)), [features[i] for i in indices])\n",
    "plt.xlabel('Relative Importance')\n",
    "plt.show()\n"
   ]
  }
 ],
 "metadata": {
  "kernelspec": {
   "display_name": "base",
   "language": "python",
   "name": "python3"
  },
  "language_info": {
   "codemirror_mode": {
    "name": "ipython",
    "version": 3
   },
   "file_extension": ".py",
   "mimetype": "text/x-python",
   "name": "python",
   "nbconvert_exporter": "python",
   "pygments_lexer": "ipython3",
   "version": "3.11.5"
  }
 },
 "nbformat": 4,
 "nbformat_minor": 2
}
