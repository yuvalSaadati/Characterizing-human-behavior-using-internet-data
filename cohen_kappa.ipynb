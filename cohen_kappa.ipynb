{
 "cells": [
  {
   "cell_type": "markdown",
   "metadata": {},
   "source": [
    "### Cohen's kappa for sport and art users' posts between Yuval and Valerie"
   ]
  },
  {
   "cell_type": "code",
   "execution_count": 8,
   "metadata": {},
   "outputs": [
    {
     "name": "stdout",
     "output_type": "stream",
     "text": [
      "Kappa for Grade 1 (Sport and Art): 0.8461538461538461\n",
      "Kappa for Grade 2 (Sport and Art): 1.0\n"
     ]
    }
   ],
   "source": [
    "import pandas as pd\n",
    "from sklearn.metrics import cohen_kappa_score\n",
    "\n",
    "# Load the files\n",
    "file = 'posts20.xlsx' \n",
    "\n",
    "# Read the files\n",
    "df1 = pd.read_excel(file, sheet_name=\"sport and art users posts\")\n",
    "\n",
    "\n",
    "# Extract the relevant columns\n",
    "Yuval_grade_1 = df1[\"Yuval's grade1\"] \n",
    "Yuval_grade_2 = df1[\"Yuval's grade2\"] \n",
    "Val_grade_1 = df1[\"Val's grade1\"] \n",
    "Val_grade_2 = df1[\"Val's grade2\"] \n",
    "\n",
    "# Ensure the columns have the same length\n",
    "if len(Yuval_grade_1) != len(Yuval_grade_2) or len(Val_grade_1) != len(Val_grade_2):\n",
    "    raise ValueError(\"Columns do not have the same number of entries.\")\n",
    "\n",
    "# Calculate Cohen's kappa\n",
    "kappa_sport_and_art_grade_1 = cohen_kappa_score(Yuval_grade_1, Val_grade_1)\n",
    "kappa_sport_and_art_grade_2 = cohen_kappa_score(Yuval_grade_2, Val_grade_2)\n",
    "\n",
    "# Print the results\n",
    "print(\"Kappa for Grade 1 (Sport and Art):\", kappa_sport_and_art_grade_1)\n",
    "print(\"Kappa for Grade 2 (Sport and Art):\", kappa_sport_and_art_grade_2)\n"
   ]
  },
  {
   "cell_type": "markdown",
   "metadata": {},
   "source": [
    "### Cohen's kappa for only art users posts between Yuval and Valerie"
   ]
  },
  {
   "cell_type": "code",
   "execution_count": 7,
   "metadata": {},
   "outputs": [
    {
     "name": "stdout",
     "output_type": "stream",
     "text": [
      "Kappa for Grade 1 (Only Art): 0.8387096774193548\n",
      "Kappa for Grade 2 (Only Art): 0.8305084745762712\n"
     ]
    }
   ],
   "source": [
    "import pandas as pd\n",
    "from sklearn.metrics import cohen_kappa_score\n",
    "\n",
    "# Load the files\n",
    "file = 'posts20.xlsx' \n",
    "\n",
    "# Read the files\n",
    "df1 = pd.read_excel(file, sheet_name=\"only art users posts\")\n",
    "\n",
    "\n",
    "# Extract the relevant columns\n",
    "Yuval_grade_1 = df1[\"Yuval's grade1\"] \n",
    "Yuval_grade_2 = df1[\"Yuval's grade2\"] \n",
    "Val_grade_1 = df1[\"Val's grade1\"] \n",
    "Val_grade_2 = df1[\"Val's grade2\"] \n",
    "\n",
    "# Ensure the columns have the same length\n",
    "if len(Yuval_grade_1) != len(Yuval_grade_2) or len(Val_grade_1) != len(Val_grade_2):\n",
    "    raise ValueError(\"Columns do not have the same number of entries.\")\n",
    "\n",
    "# Calculate Cohen's kappa\n",
    "kappa_sport_and_art_grade_1 = cohen_kappa_score(Yuval_grade_1, Val_grade_1)\n",
    "kappa_sport_and_art_grade_2 = cohen_kappa_score(Yuval_grade_2, Val_grade_2)\n",
    "\n",
    "# Print the results\n",
    "print(\"Kappa for Grade 1 (Only Art):\", kappa_sport_and_art_grade_1)\n",
    "print(\"Kappa for Grade 2 (Only Art):\", kappa_sport_and_art_grade_2)\n"
   ]
  },
  {
   "cell_type": "markdown",
   "metadata": {},
   "source": [
    "### Cohen's kappa for sport and art users' posts between GPT and Valerie"
   ]
  },
  {
   "cell_type": "code",
   "execution_count": null,
   "metadata": {},
   "outputs": [
    {
     "name": "stdout",
     "output_type": "stream",
     "text": [
      "Kappa for Grade 1 (Sport and Art): 0.3827160493827162\n",
      "Kappa for Grade 2 (Sport and Art): 1.0\n"
     ]
    }
   ],
   "source": [
    "import pandas as pd\n",
    "from sklearn.metrics import cohen_kappa_score\n",
    "\n",
    "# Load the files\n",
    "file = 'posts20_tagged_with_GPT4.xlsx' \n",
    "\n",
    "# Read the files\n",
    "df1 = pd.read_excel(file, sheet_name=\"sport and art users posts\")\n",
    "\n",
    "\n",
    "# Extract the relevant columns\n",
    "GPT_grade_1 = df1[\"GPT Grade1\"] \n",
    "GPT_grade_2 = df1[\"GPT Grade2\"] \n",
    "Val_grade_1 = df1[\"Val's grade1\"] \n",
    "Val_grade_2 = df1[\"Val's grade2\"] \n",
    "\n",
    "# Ensure the columns have the same length\n",
    "if len(GPT_grade_1) != len(GPT_grade_2) or len(Val_grade_1) != len(Val_grade_2):\n",
    "    raise ValueError(\"Columns do not have the same number of entries.\")\n",
    "\n",
    "# Calculate Cohen's kappa\n",
    "kappa_sport_and_art_grade_1 = cohen_kappa_score(GPT_grade_1, Val_grade_1)\n",
    "# kappa_sport_and_art_grade_2 = cohen_kappa_score(GPT_grade_2, Val_grade_2)\n",
    "\n",
    "# Print the results\n",
    "print(\"Kappa for Grade 1 (Sport and Art):\", kappa_sport_and_art_grade_1)\n",
    "print(\"Kappa for Grade 2 (Sport and Art):\", kappa_sport_and_art_grade_2)\n"
   ]
  },
  {
   "cell_type": "code",
   "execution_count": 13,
   "metadata": {},
   "outputs": [
    {
     "name": "stdout",
     "output_type": "stream",
     "text": [
      "Categories: ['Rather productive', 'rather neutral', 'rather not productive', 'rather productive', 'subject has rather nothing to do with productivity']\n",
      "Counts Matrix:\n",
      " [[0 2 0 0 1]\n",
      " [0 0 3 0 0]\n",
      " [0 2 0 0 1]\n",
      " [0 0 0 3 0]\n",
      " [0 0 3 0 0]\n",
      " [0 2 1 0 0]\n",
      " [0 0 2 0 1]\n",
      " [0 2 1 0 0]\n",
      " [1 2 0 0 0]\n",
      " [0 0 0 3 0]]\n",
      "Fleiss' Kappa: 0.4495412844036695\n"
     ]
    }
   ],
   "source": [
    "import pandas as pd\n",
    "import numpy as np\n",
    "from statsmodels.stats.inter_rater import fleiss_kappa\n",
    "\n",
    "# Example DataFrame\n",
    "data = {\n",
    "    \"GPT Grade1\": GPT_grade_1,\n",
    "    \"Val's grade1\": Val_grade_1,\n",
    "    \"yuval's grade1\": Yuval_grade_1\n",
    "}\n",
    "df1 = pd.DataFrame(data)\n",
    "\n",
    "# Step 1: Identify all unique categories\n",
    "categories = sorted(set(df1[\"GPT Grade1\"].unique())\n",
    "                    | set(df1[\"Val's grade1\"].unique())\n",
    "                    | set(df1[\"yuval's grade1\"].unique()))\n",
    "\n",
    "# Step 2: Create a matrix of counts for each item\n",
    "counts = []\n",
    "for i, row in df1.iterrows():\n",
    "    row_counts = [list(row).count(category) for category in categories]\n",
    "    counts.append(row_counts)\n",
    "\n",
    "# Convert to a NumPy array\n",
    "counts_matrix = np.array(counts)\n",
    "\n",
    "# Step 3: Calculate Fleiss' Kappa\n",
    "kappa = fleiss_kappa(counts_matrix, method='fleiss')\n",
    "\n",
    "# Print the results\n",
    "print(\"Categories:\", categories)\n",
    "print(\"Counts Matrix:\\n\", counts_matrix)\n",
    "print(\"Fleiss' Kappa:\", kappa)\n"
   ]
  }
 ],
 "metadata": {
  "kernelspec": {
   "display_name": "base",
   "language": "python",
   "name": "python3"
  },
  "language_info": {
   "codemirror_mode": {
    "name": "ipython",
    "version": 3
   },
   "file_extension": ".py",
   "mimetype": "text/x-python",
   "name": "python",
   "nbconvert_exporter": "python",
   "pygments_lexer": "ipython3",
   "version": "3.11.5"
  }
 },
 "nbformat": 4,
 "nbformat_minor": 2
}
