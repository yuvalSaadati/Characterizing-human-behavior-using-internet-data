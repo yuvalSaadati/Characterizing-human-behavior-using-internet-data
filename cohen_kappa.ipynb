{
 "cells": [
  {
   "cell_type": "markdown",
   "metadata": {},
   "source": [
    "### Cohen's kappa for sport and art users' posts between Yuval and Valerie"
   ]
  },
  {
   "cell_type": "code",
   "execution_count": 47,
   "metadata": {},
   "outputs": [
    {
     "name": "stdout",
     "output_type": "stream",
     "text": [
      "Kappa for Grade 1 (Only Art):0.8462\n",
      "Kappa for Grade 2 (Only Art):1.0000\n"
     ]
    }
   ],
   "source": [
    "import pandas as pd\n",
    "from sklearn.metrics import cohen_kappa_score\n",
    "\n",
    "# Load the files\n",
    "file = 'posts20_tagged_with_GPT4.xlsx' \n",
    "\n",
    "# Read the files\n",
    "df1 = pd.read_excel(file, sheet_name=\"sport and art users posts\")\n",
    "\n",
    "# Extract the relevant columns\n",
    "Yuval_grade_1 = df1[\"Yuval's grade1\"] \n",
    "Yuval_grade_2 = df1[\"Yuval's grade2\"] \n",
    "Val_grade_1 = df1[\"Val's grade1\"] \n",
    "Val_grade_2 = df1[\"Val's grade2\"] \n",
    "\n",
    "# Ensure the columns have the same length\n",
    "if len(Yuval_grade_1) != len(Yuval_grade_2) or len(Val_grade_1) != len(Val_grade_2):\n",
    "    raise ValueError(\"Columns do not have the same number of entries.\")\n",
    "\n",
    "# Calculate Cohen's kappa\n",
    "kappa_sport_and_art_grade_1 = cohen_kappa_score(Yuval_grade_1, Val_grade_1)\n",
    "kappa_sport_and_art_grade_2 = cohen_kappa_score(Yuval_grade_2, Val_grade_2)\n",
    "\n",
    "# Print the results\n",
    "\n",
    "print(f\"Kappa for Grade 1 (Only Art):{kappa_sport_and_art_grade_1:.4f}\")\n",
    "print(f\"Kappa for Grade 2 (Only Art):{ kappa_sport_and_art_grade_2:.4f}\")\n"
   ]
  },
  {
   "cell_type": "markdown",
   "metadata": {},
   "source": [
    "### Cohen's kappa for only art users posts between Yuval and Valerie"
   ]
  },
  {
   "cell_type": "code",
   "execution_count": 46,
   "metadata": {},
   "outputs": [
    {
     "name": "stdout",
     "output_type": "stream",
     "text": [
      "Kappa for Grade 1 (Only Art):0.8387\n",
      "Kappa for Grade 2 (Only Art):0.8305\n"
     ]
    }
   ],
   "source": [
    "import pandas as pd\n",
    "from sklearn.metrics import cohen_kappa_score\n",
    "\n",
    "# Load the files\n",
    "file = 'posts20_tagged_with_GPT4.xlsx' \n",
    "\n",
    "# Read the files\n",
    "df1 = pd.read_excel(file, sheet_name=\"only art users posts\")\n",
    "\n",
    "\n",
    "# Extract the relevant columns\n",
    "Yuval_grade_1 = df1[\"Yuval's grade1\"] \n",
    "Yuval_grade_2 = df1[\"Yuval's grade2\"] \n",
    "Val_grade_1 = df1[\"Val's grade1\"] \n",
    "Val_grade_2 = df1[\"Val's grade2\"] \n",
    "\n",
    "# Ensure the columns have the same length\n",
    "if len(Yuval_grade_1) != len(Yuval_grade_2) or len(Val_grade_1) != len(Val_grade_2):\n",
    "    raise ValueError(\"Columns do not have the same number of entries.\")\n",
    "\n",
    "# Calculate Cohen's kappa\n",
    "kappa_sport_and_art_grade_1 = cohen_kappa_score(Yuval_grade_1, Val_grade_1)\n",
    "kappa_sport_and_art_grade_2 = cohen_kappa_score(Yuval_grade_2, Val_grade_2)\n",
    "\n",
    "# Print the results\n",
    "print(f\"Kappa for Grade 1 (Only Art):{kappa_sport_and_art_grade_1:.4f}\")\n",
    "print(f\"Kappa for Grade 2 (Only Art):{ kappa_sport_and_art_grade_2:.4f}\")\n"
   ]
  },
  {
   "cell_type": "markdown",
   "metadata": {},
   "source": [
    "### fleiss kappa between Yuval and valerie and GPT"
   ]
  },
  {
   "cell_type": "code",
   "execution_count": null,
   "metadata": {},
   "outputs": [
    {
     "name": "stdout",
     "output_type": "stream",
     "text": [
      "Processing sheet: sport and art users posts\n",
      "Grade1 fleiss Kappa for sport and art users posts: 0.6441\n",
      "Grade2 fleiss Kappa for sport and art users posts: 0.1304\n",
      "Average fleiss Kappa for sport and art users posts: 0.3873\n",
      "\n",
      "Processing sheet: only art users posts\n",
      "Grade1 fleiss Kappa for only art users posts: 0.5636\n",
      "Grade2 fleiss Kappa for only art users posts: 0.1787\n",
      "Average fleiss Kappa for only art users posts: 0.3712\n",
      "\n"
     ]
    }
   ],
   "source": [
    "import pandas as pd\n",
    "import numpy as np\n",
    "from statsmodels.stats.inter_rater import fleiss_kappa\n",
    "\n",
    "# File path\n",
    "file = 'posts20_tagged_with_GPT4.xlsx'\n",
    "\n",
    "# Function to calculate Fleiss' Kappa for a specific grade\n",
    "def calculate_fleiss_kappa(df, grade_columns):\n",
    "    # Extract the grade data\n",
    "    grade_data = df[grade_columns].apply(lambda col: col.str.lower())\n",
    "    \n",
    "    # Identify all unique categories across columns\n",
    "    categories = sorted(set(grade_data.stack().unique()))\n",
    "    \n",
    "    # Create a matrix of counts for each row\n",
    "    counts = []\n",
    "    for _, row in grade_data.iterrows():\n",
    "        row_counts = [list(row).count(category) for category in categories]\n",
    "        counts.append(row_counts)\n",
    "    \n",
    "    # Convert counts to a NumPy array\n",
    "    counts_matrix = np.array(counts)\n",
    "    \n",
    "    # Calculate Fleiss' Kappa\n",
    "    kappa = fleiss_kappa(counts_matrix, method='fleiss')\n",
    "    \n",
    "    return categories, counts_matrix, kappa\n",
    "\n",
    "# Read all sheets from the Excel file\n",
    "sheets = pd.read_excel(file, sheet_name=None)\n",
    "\n",
    "# Iterate over each sheet and calculate Fleiss' Kappa for grade1 and grade2\n",
    "results = []\n",
    "for sheet_name, df in sheets.items():\n",
    "    print(f\"Processing sheet: {sheet_name}\")\n",
    "    try:\n",
    "        # Calculate for Grade1\n",
    "        categories1, counts_matrix1, kappa1 = calculate_fleiss_kappa(\n",
    "            df, [\"GPT Grade1\", \"Val's grade1\", \"Yuval's grade1\"]\n",
    "        )\n",
    "        \n",
    "        # Calculate for Grade2\n",
    "        categories2, counts_matrix2, kappa2 = calculate_fleiss_kappa(\n",
    "            df, [\"GPT Grade2\", \"Val's grade2\", \"Yuval's grade2\"]\n",
    "        )\n",
    "        \n",
    "        # Print results for the sheet\n",
    "        print(f\"Grade1 fleiss Kappa for {sheet_name}: {kappa1:.4f}\")\n",
    "        print(f\"Grade2 fleiss Kappa for {sheet_name}: {kappa2:.4f}\")\n",
    "        print(f\"Average fleiss Kappa for {sheet_name}: {(kappa1 + kappa2) / 2:.4f}\\n\")\n",
    "        \n",
    "    except Exception as e:\n",
    "        print(f\"Error processing sheet {sheet_name}: {e}\")\n",
    "\n",
    "# Convert results to a DataFrame and display\n"
   ]
  },
  {
   "cell_type": "markdown",
   "metadata": {},
   "source": [
    "### cohen kappa between all 100 ads"
   ]
  },
  {
   "cell_type": "code",
   "execution_count": 33,
   "metadata": {},
   "outputs": [
    {
     "name": "stdout",
     "output_type": "stream",
     "text": [
      "Processing sheet: sport and art users posts\n",
      "Kappa for sport and art users posts: 0.6610\n",
      "Processing sheet: only art users posts\n",
      "Kappa for only art users posts: 0.8246\n"
     ]
    }
   ],
   "source": [
    "from sklearn.metrics import cohen_kappa_score\n",
    "\n",
    "mapping = {\n",
    "    'rather productive': 'Category A',  \n",
    "    'rather not hard to create': 'Category A',\n",
    "    'rather not productive': 'Category B', \n",
    "    'rather hard to create': 'Category B', \n",
    "    'rather neutral': 'Category C',\n",
    "    'rather neutral to creation': 'Category C',\n",
    "    'author asks for a relative or close friend only': 'Category D',\n",
    "}\n",
    "\n",
    "# file = 'posts100_tagged_with_GPT4.xlsx'\n",
    "\n",
    "file = 'posts20_tagged_with_GPT4.xlsx'\n",
    "\n",
    "# Read all sheets from the Excel file\n",
    "sheets = pd.read_excel(file, sheet_name=None)\n",
    "\n",
    "# Iterate over each sheet and calculate Fleiss' Kappa for grade1 and grade2\n",
    "results = []\n",
    "for sheet_name, df in sheets.items():\n",
    "    # Apply mappings to the DataFrame\n",
    "    df['GPT Grade1'] = df['GPT Grade1'].str.lower().map(mapping)\n",
    "    df['GPT Grade2'] = df['GPT Grade2'].str.lower().map(mapping)\n",
    "\n",
    "    df[\"Val's grade1\"] = df[\"Val's grade1\"].str.lower().map(mapping)\n",
    "    df[\"Val's grade2\"] = df[\"Val's grade2\"].str.lower().map(mapping)\n",
    "\n",
    "    df[\"Yuval's grade1\"] = df[\"Yuval's grade1\"].str.lower().map(mapping)\n",
    "    df[\"Yuval's grade2\"] = df[\"Yuval's grade2\"].str.lower().map(mapping)\n",
    "\n",
    "    print(f\"Processing sheet: {sheet_name}\")\n",
    "    try:\n",
    "        kappa = cohen_kappa_score(df[\"Yuval's grade1\"], df[\"Yuval's grade2\"])\n",
    "\n",
    "        # Print results for the sheet\n",
    "        print(f\"Kappa for {sheet_name}: {kappa:.4f}\")\n",
    "\n",
    "    except Exception as e:\n",
    "        print(f\"Error processing sheet {sheet_name}: {e}\")\n",
    "\n",
    "# Convert results to a DataFrame and display\n"
   ]
  }
 ],
 "metadata": {
  "kernelspec": {
   "display_name": "base",
   "language": "python",
   "name": "python3"
  },
  "language_info": {
   "codemirror_mode": {
    "name": "ipython",
    "version": 3
   },
   "file_extension": ".py",
   "mimetype": "text/x-python",
   "name": "python",
   "nbconvert_exporter": "python",
   "pygments_lexer": "ipython3",
   "version": "3.11.5"
  }
 },
 "nbformat": 4,
 "nbformat_minor": 2
}
