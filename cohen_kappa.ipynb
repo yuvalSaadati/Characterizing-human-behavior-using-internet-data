{
 "cells": [
  {
   "cell_type": "markdown",
   "metadata": {},
   "source": [
    "### Cohen's kappa for sport and art users' posts between Yuval and Valerie"
   ]
  },
  {
   "cell_type": "code",
   "execution_count": 4,
   "metadata": {},
   "outputs": [
    {
     "name": "stdout",
     "output_type": "stream",
     "text": [
      "Kappa for Grade 1 (Sport and Art): 0.8461538461538461\n",
      "Kappa for Grade 2 (Sport and Art): 1.0\n"
     ]
    }
   ],
   "source": [
    "import pandas as pd\n",
    "from sklearn.metrics import cohen_kappa_score\n",
    "\n",
    "# Load the files\n",
    "file = 'posts20.xlsx' \n",
    "\n",
    "# Read the files\n",
    "df1 = pd.read_excel(file, sheet_name=\"sport and art users posts\")\n",
    "\n",
    "\n",
    "# Extract the relevant columns\n",
    "Yuval_grade_1 = df1[\"Yuval's grade1\"] \n",
    "Yuval_grade_2 = df1[\"Yuval's grade2\"] \n",
    "Val_grade_1 = df1[\"Val's grade1\"] \n",
    "Val_grade_2 = df1[\"Val's grade2\"] \n",
    "\n",
    "# Ensure the columns have the same length\n",
    "if len(Yuval_grade_1) != len(Yuval_grade_2) or len(Val_grade_1) != len(Val_grade_2):\n",
    "    raise ValueError(\"Columns do not have the same number of entries.\")\n",
    "\n",
    "# Calculate Cohen's kappa\n",
    "kappa_sport_and_art_grade_1 = cohen_kappa_score(Yuval_grade_1, Val_grade_1)\n",
    "kappa_sport_and_art_grade_2 = cohen_kappa_score(Yuval_grade_2, Val_grade_2)\n",
    "\n",
    "# Print the results\n",
    "print(\"Kappa for Grade 1 (Sport and Art):\", kappa_sport_and_art_grade_1)\n",
    "print(\"Kappa for Grade 2 (Sport and Art):\", kappa_sport_and_art_grade_2)\n"
   ]
  },
  {
   "cell_type": "markdown",
   "metadata": {},
   "source": [
    "### Cohen's kappa for only art users posts between Yuval and Valerie"
   ]
  },
  {
   "cell_type": "code",
   "execution_count": 6,
   "metadata": {},
   "outputs": [
    {
     "name": "stdout",
     "output_type": "stream",
     "text": [
      "Kappa for Grade 1 (Only Art): 0.8387096774193548\n",
      "Kappa for Grade 2 (Only Art): 0.8305084745762712\n"
     ]
    }
   ],
   "source": [
    "import pandas as pd\n",
    "from sklearn.metrics import cohen_kappa_score\n",
    "\n",
    "# Load the files\n",
    "file = 'posts20.xlsx' \n",
    "\n",
    "# Read the files\n",
    "df1 = pd.read_excel(file, sheet_name=\"only art users posts\")\n",
    "\n",
    "\n",
    "# Extract the relevant columns\n",
    "Yuval_grade_1 = df1[\"Yuval's grade1\"] \n",
    "Yuval_grade_2 = df1[\"Yuval's grade2\"] \n",
    "Val_grade_1 = df1[\"Val's grade1\"] \n",
    "Val_grade_2 = df1[\"Val's grade2\"] \n",
    "\n",
    "# Ensure the columns have the same length\n",
    "if len(Yuval_grade_1) != len(Yuval_grade_2) or len(Val_grade_1) != len(Val_grade_2):\n",
    "    raise ValueError(\"Columns do not have the same number of entries.\")\n",
    "\n",
    "# Calculate Cohen's kappa\n",
    "kappa_sport_and_art_grade_1 = cohen_kappa_score(Yuval_grade_1, Val_grade_1)\n",
    "kappa_sport_and_art_grade_2 = cohen_kappa_score(Yuval_grade_2, Val_grade_2)\n",
    "\n",
    "# Print the results\n",
    "print(\"Kappa for Grade 1 (Only Art):\", kappa_sport_and_art_grade_1)\n",
    "print(\"Kappa for Grade 2 (Only Art):\", kappa_sport_and_art_grade_2)\n"
   ]
  }
 ],
 "metadata": {
  "kernelspec": {
   "display_name": "base",
   "language": "python",
   "name": "python3"
  },
  "language_info": {
   "codemirror_mode": {
    "name": "ipython",
    "version": 3
   },
   "file_extension": ".py",
   "mimetype": "text/x-python",
   "name": "python",
   "nbconvert_exporter": "python",
   "pygments_lexer": "ipython3",
   "version": "3.11.5"
  }
 },
 "nbformat": 4,
 "nbformat_minor": 2
}
